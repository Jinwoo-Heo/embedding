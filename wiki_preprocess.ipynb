{
 "cells": [
  {
   "cell_type": "code",
   "execution_count": 4,
   "id": "2177b66c",
   "metadata": {},
   "outputs": [],
   "source": [
    "#wiki_preprocess.ipynb\n",
    "import re\n",
    "from gensim.utils import to_unicode\n",
    "\n",
    "WIKI_REMOVE_CHARS = re.compile(\"'+|(=+.{2,30}=+)|__TOC__|(ファイル:.+)|:(en|de|it|fr|es|kr|zh|no|fi):|\\\\n\", re.UNICODE)\n",
    "WIKI_SPACE_CHARS = re.compile(\"(\\\\s| )+\", re.UNICODE)\n",
    "EMAIL_PATTERN = re.compile('^[a-zA-Z0-9_.+-]+@[a-zA-Z0-9-]+\\\\.[a-zA-Z0-9-.]+$', re.UNICODE)\n",
    "URL_PATTERN = re.compile(\"((ftp|http|https):\\\\/\\\\/)?(www\\\\.)?(?!.*(ftp|http|https|www.))[a-zA-Z0-9_.-]+(\\\\.[a-zA-Z]+)+(\\\\/\\\\w+)?(\\\\/?\\\\w+)?[a-zA-Z0-9_.]+=?\\\\w+(&[a-zA-Z0-9_.]+=?\\\\w+)*?$\", re.UNICODE)\n",
    "WIKI_REMOVE_TOKEN_CHARS = re.compile(\"(\\\\*?$|:$|^파일:.+|^;)\", re.UNICODE)\n",
    "MULTIPLE_SPACES = re.compile(' +', re.UNICODE)\n",
    "\n",
    "def tokenize(content, token_min_len=2, token_max_len=100, lower=True):\n",
    "    content = re.sub(EMAIL_PATTERN, ' ', content)\n",
    "    content = re.sub(URL_PATTERN, ' ', content)\n",
    "    content = re.sub(WIKI_REMOVE_CHARS, ' ', content)\n",
    "    content = re.sub(WIKI_SPACE_CHARS, ' ', content)\n",
    "    content = re.sub(MULTIPLE_SPACES, ' ', content)\n",
    "    tokens = content.replace(\", )\", \"\").split(\" \")\n",
    "    result = []\n",
    "    for token in tokens:\n",
    "        if not token.startswith('_'):\n",
    "            token_candidate = to_unicode(re.sub(WIKI_REMOVE_TOKEN_CHARS, '', token))\n",
    "        else:\n",
    "            token_candidate = \"\"\n",
    "        if len(token_candidate) > 0:\n",
    "            result.append(token_candidate)\n",
    "    return result"
   ]
  },
  {
   "cell_type": "code",
   "execution_count": 5,
   "id": "50ed5266",
   "metadata": {},
   "outputs": [],
   "source": [
    "from gensim.corpora import WikiCorpus, Dictionary\n",
    "from gensim.utils import to_unicode"
   ]
  }
 ],
 "metadata": {
  "kernelspec": {
   "display_name": "myenv",
   "language": "python",
   "name": "python3"
  },
  "language_info": {
   "codemirror_mode": {
    "name": "ipython",
    "version": 3
   },
   "file_extension": ".py",
   "mimetype": "text/x-python",
   "name": "python",
   "nbconvert_exporter": "python",
   "pygments_lexer": "ipython3",
   "version": "3.12.3"
  }
 },
 "nbformat": 4,
 "nbformat_minor": 5
}
